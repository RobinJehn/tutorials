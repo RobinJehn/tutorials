{
 "cells": [
  {
   "cell_type": "markdown",
   "id": "b0dd32f1",
   "metadata": {},
   "source": [
    "# Motion planning\n",
    "\n",
    "In this tutorial we will implement a RRT algorithm for a reduced model of the ur5 robot with only 2 degrees of freedom. This will allow us to visualise the 2D configuration space of the environment, as we saw in tutorial 0. We will then use the same code to plan a path for the complete robot. In tutorial 0, we were using local methods to find a path from one configuration to the other, with a significant failure rate. RRT, as a global planning method, is probabilistically complete, ie, if a solution exists, it is guaranteed to find it, eventually (this can take a while...)\n",
    "\n",
    "**Important: to make sure your repository is easily updated from git shall it be needed, create a copy of this notebook before working on it.**\n",
    "\n",
    "## The RRT algorithm\n",
    "the pseudo-code for the RRT algorithm is rather simple (source: [wikipedia](https://en.wikipedia.org/wiki/Rapidly_exploring_random_tree)). RRT comes with a large variety of implementations and adaptations, depending on the targeted application.\n"
   ]
  },
  {
   "cell_type": "markdown",
   "id": "757ec3bd",
   "metadata": {},
   "source": [
    "<img src=\"tp3/rrt_pseudo.png\" style=\"width: 700px;\">"
   ]
  },
  {
   "cell_type": "markdown",
   "id": "a305fb9f",
   "metadata": {},
   "source": [
    "Given an initial configuration $q_{init}$,  a **valid** configuration $q_{rand}$ is generated randomly. What \"valid\" means is problem dependent. In our case we will consider a **valid** configuration to be one that is collision free and respects the joint limits of the robot.\n",
    "\n",
    "Then, the **nearest** vertex $q_{near}$ from $q_{rand}$ in the graph $G$ is selected. Here again, the notion of \"near\" needs to be defined (especially when we consider free flyer joints). In our case we will simply consider the euclidian distance between the configurations.\n",
    "\n",
    "NEW_CONF tries to connect $q_{rand}$ and $q_{near}$ with a local method (usually cheap to compute), in the hope of obtaining a **valid** path between $q_{rand}$ and $q_{near}$. Again, what a valid path can be chosen. In this tutorial, a valid path will be composed of **valid configurations**. If the distance between $q_{rand}$ and $q_{near}$ is greater than a user-defined variable $\\Delta q$ and / or if the complete path is not valid, then the furthest configuration $q_{new}$ such that the path between $q_{rand}$ and $q_{new}$ is valid will be kept and added to the graph.\n",
    "\n",
    "How is computed the path then? Again, more or less complex methods can be used. In this tutorial a path between two configurations will simply consist in their linear interpolation (thus, assuming no free-flyer or spherical joint on the robot!)\n",
    "\n",
    "In this tutorial we will use a variation of this graph generation, called single-query RRT. We will try to connect each new configuration to a desired goal position and stop the generation if we successfully do so.\n"
   ]
  },
  {
   "cell_type": "markdown",
   "id": "41ddf19c",
   "metadata": {},
   "source": [
    "<img src=\"tp3/rrtquary_pseudo.png\">"
   ]
  },
  {
   "cell_type": "markdown",
   "id": "771efa7c",
   "metadata": {},
   "source": [
    "## Robot model\n",
    "Although our code will be independent from the robot, we will load one now for visualisation purposes"
   ]
  },
  {
   "cell_type": "code",
   "execution_count": null,
   "id": "a2a30ca9",
   "metadata": {},
   "outputs": [],
   "source": [
    "import magic_donotload"
   ]
  },
  {
   "cell_type": "code",
   "execution_count": null,
   "id": "3efcd887",
   "metadata": {},
   "outputs": [],
   "source": [
    "import pinocchio as pin #the pinocchio library\n",
    "from utils.meshcat_viewer_wrapper import MeshcatVisualizer # the meshcat visualiser\n",
    "from utils.load_ur5_with_obstacles import load_ur5_with_obstacles # helper function to load scene\n",
    "from scipy.optimize import fmin_bfgs,fmin_slsqp # some optimisation routines from scipy\n",
    "import time # the remaining libraries are python native\n",
    "import numpy as np \n",
    "from numpy.linalg import norm\n",
    "import matplotlib.pylab as plt \n",
    "\n",
    "robot = load_ur5_with_obstacles(reduced=True)\n",
    "\n",
    "viz = MeshcatVisualizer(robot)\n",
    "viz.display(robot.q0)\n",
    "\n",
    "\n",
    "\n"
   ]
  },
  {
   "cell_type": "code",
   "execution_count": null,
   "id": "7fd683c8",
   "metadata": {},
   "outputs": [],
   "source": [
    "viz.viewer.jupyter_cell()"
   ]
  },
  {
   "cell_type": "markdown",
   "id": "b122ea1f",
   "metadata": {},
   "source": [
    "At the moment, our robot only has 2 degrees of freedom (we have blocked the others). This will help us with the visualisation in a first instance."
   ]
  },
  {
   "cell_type": "code",
   "execution_count": null,
   "id": "cd0fa51e",
   "metadata": {},
   "outputs": [],
   "source": [
    "print(robot.q0)"
   ]
  },
  {
   "cell_type": "markdown",
   "id": "cd2efd33",
   "metadata": {},
   "source": [
    "## Implementation of the Graph\n",
    "We will use a very simple graph structure that will allow us to retrieve the path from the initial state to the goal. Because we are in a single query case, the graph will be directed. Whether or not the graph is directed usually depends, again, on the problem. For instance, a path connecting two configurations for a car is not necessarily invertible.\n",
    "\n",
    "Our graph will be simply implemented as a list of Nodes.\n",
    "\n",
    "A Node is a duplet (parent, q), where parent is an integer pointing to its parent node in the graph and q is the configuration.\n",
    "\n",
    "For instance the graph:\n",
    "\n",
    "3 <------ 0 --> 1 --> 2\n",
    "        \n",
    "will be implemented as \n",
    "\n",
    "G = [(None,q0),(0,q1),(1,q2),(0,q3)]\n",
    "\n",
    "Where the qis are relevant configurations"
   ]
  },
  {
   "cell_type": "markdown",
   "id": "6a7ec666",
   "metadata": {},
   "source": [
    "## Implementation of the RRT methods\n",
    "Let's start with the RAND_CONF method. We need to sample a random configuration. Pinocchio automatically does it for you, ensuring that the configuration respects the joint limits: \n",
    "\n",
    "### RAND_CONF"
   ]
  },
  {
   "cell_type": "code",
   "execution_count": null,
   "id": "c696e7f9",
   "metadata": {},
   "outputs": [],
   "source": [
    "viz.display(pin.randomConfiguration(robot.model))\n"
   ]
  },
  {
   "cell_type": "markdown",
   "id": "932783b7",
   "metadata": {},
   "source": [
    "We additionally need to check that a configuration is free of collisions. The following function does it for you:"
   ]
  },
  {
   "cell_type": "code",
   "execution_count": null,
   "id": "63585f2f",
   "metadata": {},
   "outputs": [],
   "source": [
    "# %load tp0/generated/simple_path_planning_coll\n",
    "def coll(q):\n",
    "     '''Return true if q in collision, false otherwise.'''\n",
    "     pin.updateGeometryPlacements(robot.model,robot.data,robot.collision_model,robot.collision_data,q)\n",
    "     return pin.computeCollisions(robot.collision_model,robot.collision_data,False)\n"
   ]
  },
  {
   "cell_type": "markdown",
   "id": "69f13128",
   "metadata": {},
   "source": [
    "We can now easily write *RAND_CONF*:"
   ]
  },
  {
   "cell_type": "code",
   "execution_count": null,
   "id": "7a0afc19",
   "metadata": {},
   "outputs": [],
   "source": [
    "def RAND_CONF(checkcollision=True):\n",
    "    '''\n",
    "    Return a random configuration, not is collision\n",
    "    '''\n",
    "    while True:\n",
    "        q = pin.randomConfiguration(robot.model)  # sample between -3.2 and +3.2.\n",
    "        if not (checkcollision and coll(q)): return q\n",
    "        \n",
    "q = RAND_CONF()\n",
    "viz.display(q)"
   ]
  },
  {
   "cell_type": "markdown",
   "id": "a0ed898f",
   "metadata": {},
   "source": [
    "### NEAREST_VERTEX\n",
    "\n",
    "For this tutorial, we will use a naive implementation of NEAREST_VERTEX. We will iterate through all the nodes in the graph and return the one who is the closest according to a distance function that you will write as well:"
   ]
  },
  {
   "cell_type": "code",
   "execution_count": null,
   "id": "04c1040b",
   "metadata": {},
   "outputs": [],
   "source": [
    "def distance(q1,q2):    \n",
    "     '''Return the euclidian distance between two configurations'''\n",
    "        \n",
    "def NEAREST_VERTEX(G,q_rand):\n",
    "     '''returns the index of the Node of G with the configuration closest to q_rand  '''\n",
    "    "
   ]
  },
  {
   "cell_type": "code",
   "execution_count": null,
   "id": "25e7f3f6",
   "metadata": {},
   "outputs": [],
   "source": [
    "%do_not_load tp3/generated/rrt_nearest"
   ]
  },
  {
   "cell_type": "markdown",
   "id": "45a65dd2",
   "metadata": {},
   "source": [
    "In our particular case, adding a vertex only happens when an edge is added as well, so we might as well just do it in one go:"
   ]
  },
  {
   "cell_type": "code",
   "execution_count": null,
   "id": "2e07e2bc",
   "metadata": {},
   "outputs": [],
   "source": [
    "def ADD_EDGE_AND_VERTEX(G,parent,q):\n",
    "    G += [(parent,q)]"
   ]
  },
  {
   "cell_type": "markdown",
   "id": "66937860",
   "metadata": {},
   "source": [
    "### VALID_EDGE and NEW_CONF\n",
    "We have decided that a path between two nodes in the graph is computed as the linear interpolation between the two configurations. How to verify that the path is collision free?\n",
    "The easiest way to do this is to discretise the path and verify at specific intervals that the configurations along it are collision free. What problems are associated with such a discretisation? \n",
    "\n",
    "Write the code for NEW_CONF and use it to write VALID_EDGE"
   ]
  },
  {
   "cell_type": "code",
   "execution_count": null,
   "id": "717a1e32",
   "metadata": {},
   "outputs": [],
   "source": [
    "def lerp(q0,q1,t):    \n",
    "    return q0 * (1 - t) + q1 * t\n",
    "\n",
    "def NEW_CONF(q_near,q_rand,discretisationsteps, delta_q = None):\n",
    "    '''Return the closest configuration q_new such that the path q_near => q_new is the longest\n",
    "    along the linear interpolation (q_near,q_rand) that is collision free and of length <  delta_q'''\n",
    "    #TODO\n",
    "    return q_near\n",
    "\n",
    "def VALID_EDGE(q_near,q_goal,discretisationsteps):\n",
    "    #TODO\n",
    "    return False"
   ]
  },
  {
   "cell_type": "code",
   "execution_count": null,
   "id": "560137d0",
   "metadata": {},
   "outputs": [],
   "source": [
    "%do_not_load tp3/generated/rrt_new_conf_valid_edge"
   ]
  },
  {
   "cell_type": "markdown",
   "id": "9988620f",
   "metadata": {},
   "source": [
    "**Optional:** explore the pinocchio documentation and modify the above methods to also check for joint limits during the path interpolation"
   ]
  },
  {
   "cell_type": "markdown",
   "id": "b562b1e2",
   "metadata": {},
   "source": [
    "We now simply have to write the code equivalent to the pseudo code. First let's define some variables for you to play with, namely the discretisation steps used for validating a path and a path to q_goal, the number k of nodes in the tree, and $\\Delta_q$.\n",
    "\n",
    "We also defined a target and the initial state to be the [0,0] configuration"
   ]
  },
  {
   "cell_type": "code",
   "execution_count": null,
   "id": "ea49d97d",
   "metadata": {},
   "outputs": [],
   "source": [
    "discretisationsteps_newconf = 200 #To tweak later on\n",
    "discretisationsteps_validedge = 200 #To tweak later on\n",
    "k = 1000  #To tweak later on\n",
    "delta_q = 3. #To tweak later on\n",
    "\n",
    "\n",
    "q_init = robot.q0.copy()\n",
    "q_goal = np.array([5.05429572, 1.20489405])"
   ]
  },
  {
   "cell_type": "code",
   "execution_count": null,
   "id": "65e1c2f9",
   "metadata": {},
   "outputs": [],
   "source": [
    "def rrt(q_init, q_goal, k, delta_q):\n",
    "    G = [(None,q_init)]\n",
    "    for _ in range(k):\n",
    "        q_rand = RAND_CONF()   \n",
    "        q_near_index = NEAREST_VERTEX(G,q_rand)\n",
    "        q_near = G[q_near_index][1]        \n",
    "        q_new = NEW_CONF(q_near,q_rand,discretisationsteps_newconf, delta_q = None)    \n",
    "        ADD_EDGE_AND_VERTEX(G,q_near_index,q_new)\n",
    "        if VALID_EDGE(q_new,q_goal,discretisationsteps_validedge):\n",
    "            print (\"Path found!\")\n",
    "            ADD_EDGE_AND_VERTEX(G,len(G)-1,q_goal)\n",
    "            return G, True\n",
    "    print(\"path not found\")\n",
    "    return G, False\n",
    "            \n",
    "       \n",
    "G, foundpath = rrt(q_init, q_goal, k, delta_q)"
   ]
  },
  {
   "cell_type": "code",
   "execution_count": null,
   "id": "497d8a5b",
   "metadata": {},
   "outputs": [],
   "source": [
    "viz.display(q_init)"
   ]
  },
  {
   "cell_type": "markdown",
   "id": "e0943f2c",
   "metadata": {},
   "source": [
    "### Retrieving and displaying the path\n",
    "\n",
    "You should have been able to find a path. Reconstructing it from the final goal (the last node added to the graph) is easy: you just have to go up the chain of parents like this:"
   ]
  },
  {
   "cell_type": "code",
   "execution_count": null,
   "id": "d59b4064",
   "metadata": {},
   "outputs": [],
   "source": [
    "def getpath(G):\n",
    "    path = []\n",
    "    node = G[-1]\n",
    "    while node[0] is not None:\n",
    "        path = [node[1]] + path\n",
    "        node = G[node[0]]\n",
    "    path = [G[0][1]] + path\n",
    "    return path\n",
    "\n",
    "\n",
    "path = foundpath and getpath(G) or []"
   ]
  },
  {
   "cell_type": "markdown",
   "id": "7dc3cff6",
   "metadata": {},
   "source": [
    "We know need to display the path to visualise it. For this, use the lerp function above to write a function that displays the path between two configurations at a constant velocity and use it to display the full path"
   ]
  },
  {
   "cell_type": "code",
   "execution_count": null,
   "id": "9e563d37",
   "metadata": {},
   "outputs": [],
   "source": [
    "from math import ceil\n",
    "from time import sleep\n",
    "\n",
    "def displayedge(q0,q1,vel=2.): #vel in sec.    \n",
    "    '''Display the path obtained by linear interpolation of q0 to q1 at constant velocity vel'''\n",
    "    pass\n",
    "    \n",
    "def displaypath(path):\n",
    "    for q0, q1 in zip(path[:-1],path[1:]):\n",
    "        displayedge(q0,q1)\n",
    "    \n",
    "displaypath(path)"
   ]
  },
  {
   "cell_type": "code",
   "execution_count": null,
   "id": "7bea889c",
   "metadata": {},
   "outputs": [],
   "source": [
    "%do_not_load tp3/generated/rrt_display_path"
   ]
  },
  {
   "cell_type": "markdown",
   "id": "a500fbaa",
   "metadata": {},
   "source": [
    "### Visualing the configuration space\n",
    "Here, as in tp0, because of configuration space is only of dimension 2, we can visualise it:"
   ]
  },
  {
   "cell_type": "code",
   "execution_count": null,
   "id": "9467ba5d",
   "metadata": {},
   "outputs": [],
   "source": [
    "def collisionDistance(q):\n",
    "     '''Return the minimal distance between robot and environment. '''\n",
    "     pin.updateGeometryPlacements(robot.model,robot.data,robot.collision_model,robot.collision_data,q)\n",
    "     if pin.computeCollisions(robot.collision_model,robot.collision_data,False): 0\n",
    "     idx = pin.computeDistances(robot.collision_model,robot.collision_data)\n",
    "     return robot.collision_data.distanceResults[idx].min_distance\n",
    "\n",
    "def sampleSpace(nbSamples=500):\n",
    "     '''\n",
    "     Sample nbSamples configurations and store them in two lists depending\n",
    "     if the configuration is in free space (hfree) or in collision (hcol), along\n",
    "     with the distance to the target and the distance to the obstacles.\n",
    "     '''\n",
    "     hcol = []\n",
    "     hfree = []\n",
    "     for i in range(nbSamples):\n",
    "          q = RAND_CONF(False)\n",
    "          if not coll(q):\n",
    "               hfree.append( list(q.flat) + [ distance(q,q_goal), collisionDistance(q) ])\n",
    "          else:\n",
    "               hcol.append(  list(q.flat) + [ distance(q,q_goal), 1e-2 ])\n",
    "     return hcol,hfree\n",
    "\n",
    "def plotConfigurationSpace(hcol,hfree,markerSize=20):\n",
    "     '''\n",
    "     Plot 2 \"scatter\" plots: the first one plot the distance to the target for \n",
    "     each configuration, the second plots the distance to the obstacles (axis q1,q2, \n",
    "     distance in the color space).\n",
    "     '''\n",
    "     htotal = hcol + hfree\n",
    "     h=np.array(htotal)\n",
    "     plt.subplot(2,1,1)\n",
    "     plt.scatter(h[:,0],h[:,1],c=h[:,2],s=markerSize,lw=0)\n",
    "     plt.title(\"Distance to the target\")\n",
    "     plt.colorbar()\n",
    "     plt.subplot(2,1,2)\n",
    "     plt.scatter(h[:,0],h[:,1],c=h[:,3],s=markerSize,lw=0)\n",
    "     plt.title(\"Distance to the obstacles\")\n",
    "     plt.colorbar()\n",
    "\n",
    "hcol,hfree = sampleSpace(2000) #increase to improve resolution\n",
    "plotConfigurationSpace(hcol,hfree)\n"
   ]
  },
  {
   "cell_type": "markdown",
   "id": "58212aac",
   "metadata": {},
   "source": [
    "Let's display the path:"
   ]
  },
  {
   "cell_type": "code",
   "execution_count": null,
   "id": "c6607e78",
   "metadata": {},
   "outputs": [],
   "source": [
    "def plotpaths(paths, colors = ['r','c']):\n",
    "    plotConfigurationSpace(hcol,hfree)\n",
    "    for path, color in zip(paths,colors):\n",
    "        patharray = np.array(path)\n",
    "        plt.plot(patharray[:,0],patharray[:,1],color,lw=3)\n",
    "    \n",
    "plotpaths([path])"
   ]
  },
  {
   "cell_type": "markdown",
   "id": "54da56ef",
   "metadata": {},
   "source": [
    "## Writing a shortcut for the path\n",
    "Let's see if we can try to reduce the length of a path we obtained.\n",
    "Simply reasoning on the nodes in the path, try to come up by yourself with a mean to reduce the length. A solution is provided below if you need it but is by no mean the only approach.\n",
    "\n",
    "Hopefully by now you will have understood that RRT is a very simple algorithm which is very generic (which is why it is so appreciated) and subject to an infinity of specialisations.\n"
   ]
  },
  {
   "cell_type": "code",
   "execution_count": null,
   "id": "cf581d52",
   "metadata": {},
   "outputs": [],
   "source": [
    "def shortcut(path):\n",
    "    for i, q in enumerate(path):\n",
    "        for j in reversed(range(i+1,len(path))):\n",
    "            q2 = path[j]\n",
    "            q_new = NEW_CONF(q,q2,discretisationsteps_newconf, delta_q = delta_q)\n",
    "            if VALID_EDGE(q,q2,discretisationsteps_validedge):\n",
    "                path = path[:i+1]+path[j:]\n",
    "                return path\n",
    "    return path\n",
    "\n",
    "\n",
    "colors = [\"b\",\"c\",\"m\",\"y\"]\n",
    "originalpath = path[:]\n",
    "shortcutpath = originalpath[:]\n",
    "\n",
    "for _ in range(10):\n",
    "    shortcutpath = shortcut(shortcutpath)\n",
    "        \n",
    "plotpaths([originalpath,shortcutpath])\n",
    "\n",
    "displaypath(originalpath)\n",
    "displaypath(shortcutpath)"
   ]
  },
  {
   "cell_type": "code",
   "execution_count": null,
   "id": "19150c75",
   "metadata": {},
   "outputs": [],
   "source": []
  }
 ],
 "metadata": {
  "kernelspec": {
   "display_name": "Python 3",
   "language": "python",
   "name": "python3"
  },
  "language_info": {
   "codemirror_mode": {
    "name": "ipython",
    "version": 3
   },
   "file_extension": ".py",
   "mimetype": "text/x-python",
   "name": "python",
   "nbconvert_exporter": "python",
   "pygments_lexer": "ipython3",
   "version": "3.8.10"
  }
 },
 "nbformat": 4,
 "nbformat_minor": 5
}
