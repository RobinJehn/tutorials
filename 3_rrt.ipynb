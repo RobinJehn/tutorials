{
 "cells": [
  {
   "cell_type": "markdown",
   "id": "65646a30",
   "metadata": {},
   "source": [
    "# Motion planning\n",
    "\n",
    "In this tutorial we will implement a RRT algorithm for a reduced model of the ur5 robot with only 2 degrees of freedom. This will allow us to visualise the 2D configuration space of the environment, as we saw in tutorial 0. We will then use the same code to plan a path for the complete robot. In tutorial 0, we were using local methods to find a path from one configuration to the other, with a significant failure rate. RRT, as a global planning method, is probabilistically complete, ie, if a solution exists, it is guaranteed to find it, eventually (this can take a while...)\n",
    "\n",
    "**Important: to make sure your repository is easily updated from git shall it be needed, create a copy of this notebook before working on it.**\n",
    "\n",
    "## The RRT algorithm\n",
    "the pseudo-code for the RRT algorithm is rather simple (source: [wikipedia](https://en.wikipedia.org/wiki/Rapidly_exploring_random_tree)). RRT comes with a large variety of implementations and adaptations, depending on the targeted application.\n"
   ]
  },
  {
   "cell_type": "markdown",
   "id": "e0215fe7",
   "metadata": {},
   "source": [
    "<img src=\"tp3/rrt_pseudo.png\" style=\"width: 700px;\">"
   ]
  },
  {
   "cell_type": "markdown",
   "id": "e5b7bd2c",
   "metadata": {},
   "source": [
    "Given an initial configuration $q_{init}$,  a **valid** configuration $q_{rand}$ is generated randomly. What \"valid\" means is problem dependent. In our case we will consider a **valid** configuration to be one that is collision free and respects the joint limits of the robot.\n",
    "\n",
    "Then, the **nearest** vertex $q_{near}$ from $q_{rand}$ in the graph $G$ is selected. Here again, the notion of \"near\" needs to be defined (especially when we consider free flyer joints). In our case we will simply consider the euclidian distance between the configurations.\n",
    "\n",
    "NEW_CONF tries to connect $q_{rand}$ and $q_{near}$ with a local method (usually cheap to compute), in the hope of obtaining a **valid** path between $q_{rand}$ and $q_{near}$. Again, what a valid path can be chosen. In this tutorial, a valid path will be composed of **valid configurations**. If the distance between $q_{rand}$ and $q_{near}$ is greater than a user-defined variable $\\Delta q$ and / or if the complete path is not valid, then the furthest configuration $q_{new}$ such that the path between $q_{rand}$ and $q_{new}$ is valid will be kept and added to the graph.\n",
    "\n",
    "How is computed the path then? Again, more or less complex methods can be used. In this tutorial a path between two configurations will simply consist in their linear interpolation (thus, assuming no free-flyer or spherical joint on the robot!)\n",
    "\n",
    "In this tutorial we will use a variation of this graph generation, called single-query RRT. We will try to connect each new configuration to a desired goal position and stop the generation if we successfully do so.\n"
   ]
  },
  {
   "cell_type": "markdown",
   "id": "ab66b1e0",
   "metadata": {},
   "source": [
    "<img src=\"tp3/rrtquary_pseudo.png\">"
   ]
  },
  {
   "cell_type": "markdown",
   "id": "056feb06",
   "metadata": {},
   "source": [
    "## Robot model\n",
    "Although our code will be independent from the robot, we will load one now for visualisation purposes"
   ]
  },
  {
   "cell_type": "code",
   "execution_count": 15,
   "id": "86aec964",
   "metadata": {},
   "outputs": [],
   "source": [
    "import magic_donotload"
   ]
  },
  {
   "cell_type": "code",
   "execution_count": 16,
   "id": "a85e0f2e",
   "metadata": {},
   "outputs": [
    {
     "name": "stdout",
     "output_type": "stream",
     "text": [
      "You can open the visualizer by visiting the following URL:\n",
      "http://127.0.0.1:7001/static/\n"
     ]
    }
   ],
   "source": [
    "import pinocchio as pin #the pinocchio library\n",
    "from utils.meshcat_viewer_wrapper import MeshcatVisualizer # the meshcat visualiser\n",
    "from utils.load_ur5_with_obstacles import load_ur5_with_obstacles,Target # helper function to load scene\n",
    "from scipy.optimize import fmin_bfgs,fmin_slsqp # some optimisation routines from scipy\n",
    "import time # the remaining libraries are python native\n",
    "import numpy as np \n",
    "from numpy.linalg import norm\n",
    "import matplotlib.pylab as plt \n",
    "\n",
    "robot = load_ur5_with_obstacles(reduced=True)\n",
    "\n",
    "viz = MeshcatVisualizer(robot)\n",
    "viz.display(robot.q0)\n"
   ]
  },
  {
   "cell_type": "markdown",
   "id": "78bf46be",
   "metadata": {},
   "source": [
    "At the moment, our robot only has 2 degrees of freedom (we have blocked the others). This will help us with the visualisation in a first instance."
   ]
  },
  {
   "cell_type": "code",
   "execution_count": 17,
   "id": "8323df20",
   "metadata": {},
   "outputs": [
    {
     "name": "stdout",
     "output_type": "stream",
     "text": [
      "[0. 0.]\n"
     ]
    }
   ],
   "source": [
    "print(robot.q0)"
   ]
  },
  {
   "cell_type": "markdown",
   "id": "d4169811",
   "metadata": {},
   "source": [
    "## Implementation of the Graph\n",
    "We will use a very simple graph structure that will allow us to retrieve the path from the initial state to the goal. Because we are in a single query case, the graph will be directed. Whether or not the graph is directed usually depends, again, on the problem. For instance, a path connecting two configurations for a car is not necessarily invertible.\n",
    "\n",
    "Our graph will be simply implemented as a list of Nodes.\n",
    "\n",
    "A Node is a duplet (parent, q), where parent is an integer pointing to its parent node in the graph and q is the configuration.\n",
    "\n",
    "For instance the graph:\n",
    "\n",
    "3 <------ 0 --> 1 --> 2\n",
    "        \n",
    "will be implemented as \n",
    "\n",
    "G = [(None,q0),(0,q1),(1,q2),(0,q3)]\n",
    "\n",
    "Where the qis are relevant configurations"
   ]
  },
  {
   "cell_type": "markdown",
   "id": "14309e53",
   "metadata": {},
   "source": [
    "## Implementation of the RRT methods\n",
    "Let's start with the RAND_CONF method. We need to sample a random configuration. Pinocchio automatically does it for you, ensuring that the configuration respects the joint limits: \n",
    "\n",
    "### RAND_CONF"
   ]
  },
  {
   "cell_type": "code",
   "execution_count": 19,
   "id": "fc62fffe",
   "metadata": {},
   "outputs": [],
   "source": [
    "viz.display(pin.randomConfiguration(robot.model))\n"
   ]
  },
  {
   "cell_type": "markdown",
   "id": "a461871b",
   "metadata": {},
   "source": [
    "We additionally need to check that a configuration is free of collisions. The following function does it for you:"
   ]
  },
  {
   "cell_type": "code",
   "execution_count": 20,
   "id": "78986dfe",
   "metadata": {},
   "outputs": [],
   "source": [
    "# %load tp0/generated/simple_path_planning_coll\n",
    "def coll(q):\n",
    "     '''Return true if q in collision, false otherwise.'''\n",
    "     pin.updateGeometryPlacements(robot.model,robot.data,robot.collision_model,robot.collision_data,q)\n",
    "     return pin.computeCollisions(robot.collision_model,robot.collision_data,False)\n"
   ]
  },
  {
   "cell_type": "markdown",
   "id": "4a4a9208",
   "metadata": {},
   "source": [
    "We can now easily write *RAND_CONF*:"
   ]
  },
  {
   "cell_type": "code",
   "execution_count": 21,
   "id": "1fefe266",
   "metadata": {},
   "outputs": [],
   "source": [
    "def RAND_CONF():\n",
    "    '''\n",
    "    Return a random configuration, not is collision\n",
    "    '''\n",
    "    while True:\n",
    "        q = pin.randomConfiguration(robot.model)  # sample between -3.2 and +3.2.\n",
    "        if not coll(q): return q\n",
    "        \n",
    "q = RAND_CONF()\n",
    "viz.display(q)"
   ]
  },
  {
   "cell_type": "markdown",
   "id": "6290ef2f",
   "metadata": {},
   "source": [
    "### NEAREST_VERTEX\n",
    "\n",
    "For this tutorial, we will use a naive implementation of NEAREST_VERTEX. We will iterate through all the nodes in the graph and return the one who is the closest according to a distance function that you will write as well:"
   ]
  },
  {
   "cell_type": "code",
   "execution_count": 22,
   "id": "de425c4d",
   "metadata": {},
   "outputs": [],
   "source": [
    "def distance(q1,q2):    \n",
    "     '''Return the euclidian distance between two configurations'''\n",
    "        \n",
    "def NEAREST_VERTEX(G,q_rand):\n",
    "     '''returns the index of the Node of G with the configuration closest to q_rand  '''\n",
    "    "
   ]
  },
  {
   "cell_type": "code",
   "execution_count": 23,
   "id": "14d3239b",
   "metadata": {},
   "outputs": [],
   "source": [
    "%do_not_load tp3/generated/rrt_nearest"
   ]
  },
  {
   "cell_type": "code",
   "execution_count": 37,
   "id": "b0a03077",
   "metadata": {},
   "outputs": [],
   "source": [
    "# %load tp4/generated/rrt_nearest\n",
    "def distance(q1,q2):    \n",
    "    '''Return the euclidian distance between two configurations'''\n",
    "    return np.linalg.norm(q2-q1)\n",
    "        \n",
    "def NEAREST_VERTEX(G,q_rand):\n",
    "    '''returns the index of the Node of G with the configuration closest to q_rand  '''\n",
    "    min_dist = 10e4\n",
    "    idx=-1\n",
    "    for (i,node) in enumerate(G):\n",
    "        dist = distance(node[1],q_rand) \n",
    "        if dist < min_dist:\n",
    "            min_dist = dist\n",
    "            idx = i\n",
    "    return idx\n"
   ]
  },
  {
   "cell_type": "markdown",
   "id": "065d99cf",
   "metadata": {},
   "source": [
    "In our particular case, adding a vertex only happens when an edge is added as well, so we might as well just do it in one go:"
   ]
  },
  {
   "cell_type": "code",
   "execution_count": 73,
   "id": "8ef09a74",
   "metadata": {},
   "outputs": [],
   "source": [
    "def ADD_EDGE_AND_VERTEX(G,parent,q):\n",
    "    G += [(parent,q)]"
   ]
  },
  {
   "cell_type": "markdown",
   "id": "3814b413",
   "metadata": {},
   "source": [
    "### VALID_EDGE and NEW_CONF\n",
    "We have decided that a path between two nodes in the graph is computed as the linear interpolation between the two configurations. How to verify that the path is collision free?\n",
    "The easiest way to do this is to discretise the path and verify at specific intervals that the configurations along it are collision free. What problems are associated with such a discretisation? \n",
    "\n",
    "Write the code for NEW_CONF and use it to write VALID_EDGE"
   ]
  },
  {
   "cell_type": "code",
   "execution_count": 74,
   "id": "372075d4",
   "metadata": {},
   "outputs": [],
   "source": [
    "def lerp(q0,q1,t):    \n",
    "    return q0 * (1 - t) + q1 * t\n",
    "\n",
    "def NEW_CONF(q_near,q_rand,discretisationsteps, delta_q = None):\n",
    "    '''Return the closest configuration q_new such that the path q_near => q_new is the longest\n",
    "    along the linear interpolation (q_near,q_rand) that is collision free and of length <  delta_q'''\n",
    "    #TODO\n",
    "    return q_near\n",
    "\n",
    "def VALID_EDGE(q_near,q_goal,discretisationsteps):\n",
    "    #TODO\n",
    "    return False"
   ]
  },
  {
   "cell_type": "code",
   "execution_count": 75,
   "id": "83f32fd1",
   "metadata": {},
   "outputs": [],
   "source": [
    "def lerp(q0,q1,t):    \n",
    "    return q0 * (1 - t) + q1 * t\n",
    "\n",
    "def NEW_CONF(q_near,q_rand,discretisationsteps, delta_q = None):\n",
    "    '''Return the closest configuration q_new such that the path q_near => q_new is the longest\n",
    "    along the linear interpolation (q_near,q_rand) that is collision free and of length <  delta_q'''\n",
    "    q_end = q_rand.copy()\n",
    "    dist = distance(q_near, q_rand)\n",
    "    if delta_q is not None and dist > delta_q:\n",
    "        #compute the configuration that corresponds to a path of length delta_q\n",
    "        q_end = lerp(q_near,q_rand,delta_q/dist)\n",
    "        dist = delta_q\n",
    "    dt = dist / discretisationsteps\n",
    "    for i in range(1,discretisationsteps):\n",
    "        q = lerp(q_near,q_end,dt*i)\n",
    "        if coll(q):\n",
    "            return lerp(q_near,q_end,dt*(i-1))\n",
    "    return q_end\n",
    "\n",
    "\n",
    "def VALID_EDGE(q_new,q_goal,discretisationsteps):\n",
    "    return np.linalg.norm(q_goal -NEW_CONF(q_new, q_goal,discretisationsteps)) < 1"
   ]
  },
  {
   "cell_type": "markdown",
   "id": "a1b9404f",
   "metadata": {},
   "source": [
    "We now simply have to write the code equivalent to the pseudo code"
   ]
  },
  {
   "cell_type": "code",
   "execution_count": 81,
   "id": "5fff15ff",
   "metadata": {},
   "outputs": [
    {
     "name": "stdout",
     "output_type": "stream",
     "text": [
      "why\n",
      "218\n",
      "215\n",
      "58\n",
      "52\n",
      "22\n",
      "16\n",
      "6\n",
      "0\n"
     ]
    }
   ],
   "source": [
    "discretisationsteps_newconf = 100 #TODO\n",
    "discretisationsteps_validedge = 100 #TODO\n",
    "\n",
    "slp = (1e-5)\n",
    "\n",
    "def rrt(q_init, q_goal, k, delta_q):\n",
    "    G = [(None,q_init)]\n",
    "    for _ in range(k):\n",
    "        q_rand = RAND_CONF()   \n",
    "        q_near_index = NEAREST_VERTEX(G,q_rand)\n",
    "        q_near = G[q_near_index][1]        \n",
    "        q_new = NEW_CONF(q_near,q_rand,discretisationsteps_newconf, delta_q = None)    \n",
    "        ADD_EDGE_AND_VERTEX(G,q_near_index,q_new)\n",
    "        if VALID_EDGE(q_new,q_goal,discretisationsteps_validedge):\n",
    "            print (\"why\")\n",
    "            ADD_EDGE_AND_VERTEX(G,len(G)-1,q_goal)\n",
    "            return G, True\n",
    "    return G, False\n",
    "            \n",
    "q_init = RAND_CONF()\n",
    "q_goal = RAND_CONF()\n",
    "k = 1000\n",
    "delta_q = 20.\n",
    "       \n",
    "G, res = rrt(q_init, q_goal, k, delta_q)\n",
    "\n",
    "path = []\n",
    "\n",
    "def plot(q0,q1,steps = 100):\n",
    "    for i in range(steps):\n",
    "        viz.display(lerp(q0,q1,float(i)/steps))\n",
    "    viz.display(q1)\n",
    "    \n",
    "\n",
    "#if G is not None:\n",
    "if res:\n",
    "    node = G[-1]\n",
    "    while node[0] is not None:\n",
    "        path = [node[1]] + path\n",
    "        print(node[0])\n",
    "        node = G[node[0]]\n",
    "        \n",
    "    for q0, q1 in zip(path[:-1],path[1:]):\n",
    "        plot(q0,q1,steps = 100)\n",
    "        time.sleep(1e-3)\n",
    "else:\n",
    "    print(\"fail\")\n",
    "\n",
    "\n",
    "        "
   ]
  },
  {
   "cell_type": "code",
   "execution_count": 94,
   "id": "f6b1f56d",
   "metadata": {},
   "outputs": [],
   "source": [
    "#if G is not None:\n",
    "if res:        \n",
    "    for q0, q1 in zip(path[:-1],path[1:]):\n",
    "        plot(q0,q1,steps = 100)\n",
    "        time.sleep(1e-3)"
   ]
  },
  {
   "cell_type": "code",
   "execution_count": 93,
   "id": "fb43b4ff",
   "metadata": {},
   "outputs": [
    {
     "data": {
      "text/plain": [
       "220"
      ]
     },
     "execution_count": 93,
     "metadata": {},
     "output_type": "execute_result"
    }
   ],
   "source": [
    "len(G)"
   ]
  },
  {
   "cell_type": "code",
   "execution_count": 45,
   "id": "03d08d4f",
   "metadata": {},
   "outputs": [
    {
     "name": "stdout",
     "output_type": "stream",
     "text": [
      "VALID 0.2596656740436157\n",
      "VALID 0.16477925032429397\n",
      "VALID 0.16477925032429397\n",
      "VALID 0.31087888421684806\n",
      "VALID 0.2596656740436157\n",
      "VALID 0.31284460975587264\n",
      "VALID 0.43976380475328014\n",
      "VALID 0.31087888421684806\n",
      "VALID 0.31087888421684806\n",
      "VALID 0.2596656740436157\n",
      "VALID 0.2596656740436157\n",
      "VALID 0.2596656740436157\n",
      "VALID 1.4823792582008157\n",
      "VALID 1.4823792582008157\n",
      "VALID 1.4823792582008157\n",
      "VALID 0.31087888421684806\n",
      "VALID 0.2596656740436157\n",
      "VALID 0.31087888421684806\n",
      "VALID 0.2596656740436157\n",
      "VALID 0.31087888421684806\n",
      "VALID 0.31087888421684806\n",
      "VALID 0.31087888421684806\n",
      "VALID 0.2596656740436157\n",
      "VALID 0.31087888421684806\n",
      "VALID 1.4823792582008157\n",
      "VALID 0.31087888421684806\n",
      "VALID 0.3379718904253293\n",
      "VALID 0.3379718904253293\n",
      "VALID 0.3379718904253293\n",
      "VALID 0.3379718904253293\n",
      "VALID 1.4823792582008157\n",
      "VALID 0.3379718904253293\n",
      "VALID 0.3379718904253293\n",
      "VALID 0.3379718904253293\n",
      "VALID 0.3379718904253293\n",
      "VALID 0.2596656740436157\n",
      "VALID 0.2596656740436157\n",
      "VALID 1.4823792582008157\n",
      "VALID 0.3379718904253293\n",
      "VALID 1.1800478179905844\n",
      "VALID 2.6615680234109256\n",
      "VALID 0.44702507141345904\n",
      "VALID 2.958539743732012\n",
      "VALID 0.2596656740436157\n",
      "VALID 1.4823792582008157\n",
      "VALID 2.8343229339454745\n",
      "VALID 0.4094066814718356\n",
      "VALID 0.31642576360383345\n",
      "VALID 0.3379718904253293\n",
      "VALID 0.24683058034637162\n",
      "VALID 0.26028060783612206\n",
      "VALID 0.3379718904253293\n",
      "VALID 0.42804948719130376\n",
      "VALID 0.6878811522441605\n",
      "VALID 2.160671218107054\n",
      "VALID 0.2596656740436157\n",
      "VALID 0.3379718904253293\n",
      "VALID 1.3577886083235795\n",
      "VALID 1.9028332547706222\n",
      "VALID 0.3379718904253293\n",
      "VALID 0.42804948719130376\n",
      "VALID 0.42804948719130376\n",
      "VALID 1.3259831453528452\n",
      "VALID 1.568464206696694\n",
      "VALID 0.7861151425496484\n",
      "VALID 3.0397764639107776\n",
      "VALID 0.6385633624748108\n",
      "VALID 1.0676784028325998\n",
      "VALID 1.999238280300975\n",
      "VALID 0.28357523580442046\n",
      "VALID 1.877311001459506\n",
      "VALID 0.49385048700445083\n",
      "VALID 2.1004188081472868\n",
      "VALID 0.3379718904253293\n",
      "VALID 2.8343229339454745\n",
      "VALID 0.42804948719130376\n",
      "VALID 3.0331456219670176\n",
      "VALID 0.42804948719130376\n",
      "VALID 0.42804948719130376\n",
      "VALID 0.42804948719130376\n",
      "VALID 2.033172460870259\n",
      "VALID 0.42804948719130376\n",
      "VALID 0.42804948719130376\n",
      "VALID 0.4791569946564573\n",
      "VALID 1.517140677963175\n",
      "VALID 0.3379718904253293\n",
      "VALID 0.3379718904253293\n",
      "VALID 0.3450380264852582\n",
      "VALID 2.479025652650111\n",
      "VALID 0.3379718904253293\n",
      "VALID 2.8343229339454745\n",
      "VALID 0.42804948719130376\n",
      "VALID 0.3379718904253293\n",
      "VALID 0.42804948719130376\n",
      "VALID 2.033172460870259\n",
      "VALID 0.42804948719130376\n",
      "VALID 2.033172460870259\n",
      "VALID 0.3379718904253293\n",
      "VALID 0.26940729321232554\n",
      "VALID 0.5309446418773791\n",
      "VALID 0.42804948719130376\n",
      "VALID 0.6232074434726382\n",
      "VALID 1.5903391300773362\n",
      "VALID 0.42804948719130376\n",
      "VALID 0.29281640400087317\n",
      "VALID 1.8112738391394427\n",
      "VALID 2.8343229339454745\n",
      "VALID 0.42804948719130376\n",
      "VALID 1.0676784028325998\n",
      "VALID 0.42804948719130376\n",
      "VALID 0.42804948719130376\n",
      "VALID 2.8343229339454745\n",
      "VALID 0.42804948719130376\n",
      "VALID 0.2957613407832836\n",
      "VALID 2.7109058293917574\n",
      "VALID 2.226377427152098\n",
      "VALID 2.2737294859768316\n",
      "VALID 0.3379718904253293\n",
      "fail\n"
     ]
    }
   ],
   "source": [
    "q_init = G[3][1]\n",
    "q_goal = G[0][1]\n",
    "k = 100\n",
    "delta_q = 20.\n",
    "       \n",
    "G, res = rrt(q_init, q_goal, k, delta_q)\n",
    "\n",
    "path = []\n",
    "\n",
    "def plot(q0,q1,steps = 100):\n",
    "    for i in range(steps):\n",
    "        viz.display(lerp(q0,q1,float(i)/steps))\n",
    "    viz.display(q1)\n",
    "    \n",
    "\n",
    "#if G is not None:\n",
    "if res:\n",
    "    node = G[-1]\n",
    "    while node[0] is not None:\n",
    "        path = [node[1]] + path\n",
    "        print(node[0])\n",
    "        node = G[node[0]]\n",
    "        \n",
    "    for q0, q1 in zip(path[:-1],path[1:]):\n",
    "        plot(q0,q1,steps = 100)\n",
    "        time.sleep(1e-3)\n",
    "else:\n",
    "    print(\"fail\")"
   ]
  },
  {
   "cell_type": "code",
   "execution_count": 46,
   "id": "63eff60b",
   "metadata": {},
   "outputs": [],
   "source": [
    "viz.display(q_init)"
   ]
  },
  {
   "cell_type": "code",
   "execution_count": 47,
   "id": "8adb2fc9",
   "metadata": {},
   "outputs": [],
   "source": [
    "viz.display(q_goal)"
   ]
  },
  {
   "cell_type": "code",
   "execution_count": null,
   "id": "b751636b",
   "metadata": {},
   "outputs": [],
   "source": []
  }
 ],
 "metadata": {
  "kernelspec": {
   "display_name": "Python 3 (ipykernel)",
   "language": "python",
   "name": "python3"
  },
  "language_info": {
   "codemirror_mode": {
    "name": "ipython",
    "version": 3
   },
   "file_extension": ".py",
   "mimetype": "text/x-python",
   "name": "python",
   "nbconvert_exporter": "python",
   "pygments_lexer": "ipython3",
   "version": "3.10.6"
  }
 },
 "nbformat": 4,
 "nbformat_minor": 5
}
